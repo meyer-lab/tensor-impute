{
 "cells": [
  {
   "cell_type": "code",
   "execution_count": null,
   "metadata": {},
   "outputs": [],
   "source": [
    "# imports\n",
    "import numpy as np\n",
    "import tensorly as tl\n",
    "from timpute.decomposition import Decomposition\n",
    "from timpute.tracker import tracker\n",
    "from timpute.common import *\n",
    "from timpute.plot import *\n",
    "\n",
    "from timpute.test.simulated_tensors import createTensor, createCube\n",
    "from timpute.direct_opt import perform_CP_DO\n",
    "from timpute.cmtf import perform_CP\n",
    "from tensorly.decomposition import parafac"
   ]
  },
  {
   "cell_type": "code",
   "execution_count": null,
   "metadata": {},
   "outputs": [],
   "source": [
    "np.random.seed(10)\n",
    "\n",
    "# tensor options\n",
    "# 1 = gamma dist, 2 = normal dist, 3 = atyeo, 4 = zohar, 5 = alter\n",
    "option = 1\n",
    "r = 30\n",
    "shape = (20,40,10)\n",
    "scale = 5\n",
    "miss = False\n",
    "miss_perc = 0.2\n",
    "\n",
    "# imputation options\n",
    "reps = 5\n",
    "impute_r = 6\n",
    "maxiter = 100\n",
    "drop_perc = 0.2\n",
    "\n",
    "# graphing options\n",
    "ax, f = getSetup((16,7), (3,3))"
   ]
  },
  {
   "cell_type": "code",
   "execution_count": null,
   "metadata": {},
   "outputs": [],
   "source": [
    "if option == 1:\n",
    "    if miss: tensor = createTensor(drop_perc=drop_perc, size=shape, rank=r, distribution=\"gamma\", scale=scale, par=2)\n",
    "    else: tensor = createTensor(size=shape, rank=r, distribution=\"gamma\", scale=scale, par=2)\n",
    "elif option == 2:\n",
    "    if miss: tensor = createTensor(drop_perc=drop_perc, size=shape, rank=r, distribution=\"uniform\", scale=scale)\n",
    "    else: tensor = createTensor(size=shape, rank=r, distribution=\"uniform\", scale=scale)\n",
    "elif option == 3:\n",
    "    from tensordata.atyeo import data as atyeo\n",
    "    tensor = atyeo()\n",
    "elif option == 4:\n",
    "    from tensordata.zohar import data as zohar\n",
    "    tensor = zohar()\n",
    "elif option == 5:\n",
    "    from tensordata.alter import data as alter\n",
    "    tensor = alter()['Fc']\n",
    "    matrix = alter()['gp120']\n",
    "\n",
    "drop_num = int(np.sum(np.isfinite(tensor))*drop_perc)"
   ]
  },
  {
   "cell_type": "markdown",
   "metadata": {},
   "source": [
    "## Start of methods"
   ]
  },
  {
   "cell_type": "code",
   "execution_count": null,
   "metadata": {},
   "outputs": [],
   "source": [
    "dopt_tracker = tracker(tensor,track_runtime=True)\n",
    "dopt_method = Decomposition(tensor,method=perform_CP_DO, max_rr=impute_r)\n",
    "dopt_method.Q2X_entry(drop=drop_num, repeat=reps, maxiter=maxiter, comparePCA=False, callback=dopt_tracker)\n",
    "dopt_tracker.combine()"
   ]
  },
  {
   "cell_type": "code",
   "execution_count": null,
   "metadata": {},
   "outputs": [],
   "source": [
    "als_tracker = tracker(tensor, track_runtime=True)\n",
    "# als_method = Decomposition(tensor,method=parafac, max_rr=impute_r)\n",
    "# als_method.Q2X_entry(drop=drop_num, repeat=reps, maxiter=maxiter, comparePCA=False, callback=als_tracker)\n",
    "# als_tracker.combine()"
   ]
  },
  {
   "cell_type": "code",
   "execution_count": null,
   "metadata": {},
   "outputs": [],
   "source": [
    "cls_tracker = tracker(tensor, track_runtime=True)\n",
    "cls_method = Decomposition(tensor,method=perform_CP, max_rr=impute_r)\n",
    "cls_method.Q2X_entry(drop=drop_num, repeat=reps, maxiter=maxiter, comparePCA=False, callback=cls_tracker)\n",
    "cls_tracker.combine()"
   ]
  },
  {
   "cell_type": "code",
   "execution_count": null,
   "metadata": {},
   "outputs": [],
   "source": [
    "q2xentry(ax[0], dopt_method, methodname = \"Direct Opt CP\")\n",
    "# q2xentry(ax[0], als_method, methodname = \"Tensorpack CP\")\n",
    "q2xentry(ax[0], cls_method, methodname = \"Censored Least Squared CP\")\n",
    "\n",
    "dopt_tracker.plot_iteration(ax[1], methodname=\"Direct Opt CP\")\n",
    "# als_tracker.plot_iteration(ax[1], methodname=\"Alternating Least Squares CP\")\n",
    "cls_tracker.plot_iteration(ax[1], methodname=\"Censored Least Squared CP\")\n",
    "\n",
    "dopt_tracker.plot_runtime(ax[3], methodname=\"Direct Opt CP\")\n",
    "# als_tracker.plot_runtime(ax[4], methodname=\"Alternating Least Squares CP\")\n",
    "cls_tracker.plot_runtime(ax[5], methodname=\"Censored Least Squared CP\")\n",
    "\n",
    "dopt_tracker.plot_iteration(ax[6], methodname=\"Direct Opt CP\", average=False)\n",
    "# als_tracker.plot_iteration(ax[7], methodname=\"Alternating Least Squared CP\", average=False)\n",
    "cls_tracker.plot_iteration(ax[8], methodname=\"Censored Least Squared CP\", average=False)\n",
    "\n",
    "\n",
    "\n",
    "print(dopt_method.entryQ2X)\n",
    "print(cls_method.entryQ2X)\n",
    "f"
   ]
  },
  {
   "cell_type": "markdown",
   "metadata": {},
   "source": [
    "## Test Functions"
   ]
  },
  {
   "cell_type": "code",
   "execution_count": null,
   "metadata": {},
   "outputs": [],
   "source": [
    "als_tracker.begin()\n",
    "parafac(tensor, 6, n_iter_max=100, callback=als_tracker)"
   ]
  },
  {
   "cell_type": "code",
   "execution_count": null,
   "metadata": {},
   "outputs": [],
   "source": []
  }
 ],
 "metadata": {
  "kernelspec": {
   "display_name": "Python 3.10.7 ('.venv': poetry)",
   "language": "python",
   "name": "python3"
  },
  "language_info": {
   "codemirror_mode": {
    "name": "ipython",
    "version": 3
   },
   "file_extension": ".py",
   "mimetype": "text/x-python",
   "name": "python",
   "nbconvert_exporter": "python",
   "pygments_lexer": "ipython3",
   "version": "3.10.7"
  },
  "orig_nbformat": 4,
  "vscode": {
   "interpreter": {
    "hash": "4495b3121cf5d48f6e109459a186ae45ce1d076dca50678dc0df3b8f3d83fec2"
   }
  }
 },
 "nbformat": 4,
 "nbformat_minor": 2
}
